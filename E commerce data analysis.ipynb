{
 "cells": [
  {
   "cell_type": "code",
   "execution_count": 1,
   "id": "43e2e249-2a8a-4514-8536-fe2d77221a1f",
   "metadata": {},
   "outputs": [],
   "source": [
    "import pandas as pd"
   ]
  },
  {
   "cell_type": "code",
   "execution_count": 2,
   "id": "fda62b06-b6a2-4893-ad15-56cea8f1195c",
   "metadata": {},
   "outputs": [],
   "source": [
    "df= pd.read_csv('ecommerce_furniture_dataset_2024.csv')"
   ]
  },
  {
   "cell_type": "code",
   "execution_count": 3,
   "id": "369866bd-a48c-418d-812f-d6d602c9c2bf",
   "metadata": {},
   "outputs": [
    {
     "data": {
      "text/html": [
       "<div>\n",
       "<style scoped>\n",
       "    .dataframe tbody tr th:only-of-type {\n",
       "        vertical-align: middle;\n",
       "    }\n",
       "\n",
       "    .dataframe tbody tr th {\n",
       "        vertical-align: top;\n",
       "    }\n",
       "\n",
       "    .dataframe thead th {\n",
       "        text-align: right;\n",
       "    }\n",
       "</style>\n",
       "<table border=\"1\" class=\"dataframe\">\n",
       "  <thead>\n",
       "    <tr style=\"text-align: right;\">\n",
       "      <th></th>\n",
       "      <th>productTitle</th>\n",
       "      <th>originalPrice</th>\n",
       "      <th>price</th>\n",
       "      <th>sold</th>\n",
       "      <th>tagText</th>\n",
       "    </tr>\n",
       "  </thead>\n",
       "  <tbody>\n",
       "    <tr>\n",
       "      <th>0</th>\n",
       "      <td>Dresser For Bedroom With 9 Fabric Drawers Ward...</td>\n",
       "      <td>NaN</td>\n",
       "      <td>$46.79</td>\n",
       "      <td>600</td>\n",
       "      <td>Free shipping</td>\n",
       "    </tr>\n",
       "    <tr>\n",
       "      <th>1</th>\n",
       "      <td>Outdoor Conversation Set 4 Pieces Patio Furnit...</td>\n",
       "      <td>NaN</td>\n",
       "      <td>$169.72</td>\n",
       "      <td>0</td>\n",
       "      <td>Free shipping</td>\n",
       "    </tr>\n",
       "    <tr>\n",
       "      <th>2</th>\n",
       "      <td>Desser For Bedroom With 7 Fabric Drawers Organ...</td>\n",
       "      <td>$78.4</td>\n",
       "      <td>$39.46</td>\n",
       "      <td>7</td>\n",
       "      <td>Free shipping</td>\n",
       "    </tr>\n",
       "    <tr>\n",
       "      <th>3</th>\n",
       "      <td>Modern Accent Boucle Chair,Upholstered Tufted ...</td>\n",
       "      <td>NaN</td>\n",
       "      <td>$111.99</td>\n",
       "      <td>0</td>\n",
       "      <td>Free shipping</td>\n",
       "    </tr>\n",
       "    <tr>\n",
       "      <th>4</th>\n",
       "      <td>Small Unit Simple Computer Desk Household Wood...</td>\n",
       "      <td>$48.82</td>\n",
       "      <td>$21.37</td>\n",
       "      <td>1</td>\n",
       "      <td>Free shipping</td>\n",
       "    </tr>\n",
       "  </tbody>\n",
       "</table>\n",
       "</div>"
      ],
      "text/plain": [
       "                                        productTitle originalPrice    price  \\\n",
       "0  Dresser For Bedroom With 9 Fabric Drawers Ward...           NaN   $46.79   \n",
       "1  Outdoor Conversation Set 4 Pieces Patio Furnit...           NaN  $169.72   \n",
       "2  Desser For Bedroom With 7 Fabric Drawers Organ...         $78.4   $39.46   \n",
       "3  Modern Accent Boucle Chair,Upholstered Tufted ...           NaN  $111.99   \n",
       "4  Small Unit Simple Computer Desk Household Wood...        $48.82   $21.37   \n",
       "\n",
       "   sold        tagText  \n",
       "0   600  Free shipping  \n",
       "1     0  Free shipping  \n",
       "2     7  Free shipping  \n",
       "3     0  Free shipping  \n",
       "4     1  Free shipping  "
      ]
     },
     "execution_count": 3,
     "metadata": {},
     "output_type": "execute_result"
    }
   ],
   "source": [
    "df.head()"
   ]
  },
  {
   "cell_type": "code",
   "execution_count": 4,
   "id": "831be27b-dc11-4f7c-ac95-c86eb61fd9a8",
   "metadata": {},
   "outputs": [
    {
     "data": {
      "text/plain": [
       "productTitle        0\n",
       "originalPrice    1513\n",
       "price               0\n",
       "sold                0\n",
       "tagText             3\n",
       "dtype: int64"
      ]
     },
     "execution_count": 4,
     "metadata": {},
     "output_type": "execute_result"
    }
   ],
   "source": [
    "df.isnull().sum()"
   ]
  },
  {
   "cell_type": "code",
   "execution_count": 5,
   "id": "be8cd958-7e58-4d30-a25c-669fdfa25204",
   "metadata": {},
   "outputs": [
    {
     "data": {
      "text/plain": [
       "(2000, 5)"
      ]
     },
     "execution_count": 5,
     "metadata": {},
     "output_type": "execute_result"
    }
   ],
   "source": [
    "df.shape"
   ]
  },
  {
   "cell_type": "code",
   "execution_count": 6,
   "id": "541b7686-c81d-40d6-a2b0-420347b37623",
   "metadata": {},
   "outputs": [],
   "source": [
    "df.drop(['originalPrice'], axis=1,inplace=True)"
   ]
  },
  {
   "cell_type": "code",
   "execution_count": 7,
   "id": "b87e4401-d9c4-42a3-b4f1-f86cca4081b9",
   "metadata": {},
   "outputs": [
    {
     "data": {
      "text/html": [
       "<div>\n",
       "<style scoped>\n",
       "    .dataframe tbody tr th:only-of-type {\n",
       "        vertical-align: middle;\n",
       "    }\n",
       "\n",
       "    .dataframe tbody tr th {\n",
       "        vertical-align: top;\n",
       "    }\n",
       "\n",
       "    .dataframe thead th {\n",
       "        text-align: right;\n",
       "    }\n",
       "</style>\n",
       "<table border=\"1\" class=\"dataframe\">\n",
       "  <thead>\n",
       "    <tr style=\"text-align: right;\">\n",
       "      <th></th>\n",
       "      <th>productTitle</th>\n",
       "      <th>price</th>\n",
       "      <th>sold</th>\n",
       "      <th>tagText</th>\n",
       "    </tr>\n",
       "  </thead>\n",
       "  <tbody>\n",
       "    <tr>\n",
       "      <th>0</th>\n",
       "      <td>Dresser For Bedroom With 9 Fabric Drawers Ward...</td>\n",
       "      <td>$46.79</td>\n",
       "      <td>600</td>\n",
       "      <td>Free shipping</td>\n",
       "    </tr>\n",
       "    <tr>\n",
       "      <th>1</th>\n",
       "      <td>Outdoor Conversation Set 4 Pieces Patio Furnit...</td>\n",
       "      <td>$169.72</td>\n",
       "      <td>0</td>\n",
       "      <td>Free shipping</td>\n",
       "    </tr>\n",
       "    <tr>\n",
       "      <th>2</th>\n",
       "      <td>Desser For Bedroom With 7 Fabric Drawers Organ...</td>\n",
       "      <td>$39.46</td>\n",
       "      <td>7</td>\n",
       "      <td>Free shipping</td>\n",
       "    </tr>\n",
       "    <tr>\n",
       "      <th>3</th>\n",
       "      <td>Modern Accent Boucle Chair,Upholstered Tufted ...</td>\n",
       "      <td>$111.99</td>\n",
       "      <td>0</td>\n",
       "      <td>Free shipping</td>\n",
       "    </tr>\n",
       "    <tr>\n",
       "      <th>4</th>\n",
       "      <td>Small Unit Simple Computer Desk Household Wood...</td>\n",
       "      <td>$21.37</td>\n",
       "      <td>1</td>\n",
       "      <td>Free shipping</td>\n",
       "    </tr>\n",
       "    <tr>\n",
       "      <th>...</th>\n",
       "      <td>...</td>\n",
       "      <td>...</td>\n",
       "      <td>...</td>\n",
       "      <td>...</td>\n",
       "    </tr>\n",
       "    <tr>\n",
       "      <th>1995</th>\n",
       "      <td>Modern TV Stand Entertainment Center with Two ...</td>\n",
       "      <td>$72.49</td>\n",
       "      <td>8</td>\n",
       "      <td>Free shipping</td>\n",
       "    </tr>\n",
       "    <tr>\n",
       "      <th>1996</th>\n",
       "      <td>Large Wardrobe Armoire Closet with 3 Doors, Fr...</td>\n",
       "      <td>$276.65</td>\n",
       "      <td>2</td>\n",
       "      <td>Free shipping</td>\n",
       "    </tr>\n",
       "    <tr>\n",
       "      <th>1997</th>\n",
       "      <td>Velvet Futon Sofa Bed, 73-inch Sleeper Couch w...</td>\n",
       "      <td>$196.44</td>\n",
       "      <td>10</td>\n",
       "      <td>Free shipping</td>\n",
       "    </tr>\n",
       "    <tr>\n",
       "      <th>1998</th>\n",
       "      <td>Furniture Acrylic Coffee Table Transparent Liv...</td>\n",
       "      <td>$228.18</td>\n",
       "      <td>0</td>\n",
       "      <td>Free shipping</td>\n",
       "    </tr>\n",
       "    <tr>\n",
       "      <th>1999</th>\n",
       "      <td>Bed Frane Bamboo and Metal Platform Bed Frame ...</td>\n",
       "      <td>$99.48</td>\n",
       "      <td>0</td>\n",
       "      <td>Free shipping</td>\n",
       "    </tr>\n",
       "  </tbody>\n",
       "</table>\n",
       "<p>2000 rows × 4 columns</p>\n",
       "</div>"
      ],
      "text/plain": [
       "                                           productTitle    price  sold  \\\n",
       "0     Dresser For Bedroom With 9 Fabric Drawers Ward...   $46.79   600   \n",
       "1     Outdoor Conversation Set 4 Pieces Patio Furnit...  $169.72     0   \n",
       "2     Desser For Bedroom With 7 Fabric Drawers Organ...   $39.46     7   \n",
       "3     Modern Accent Boucle Chair,Upholstered Tufted ...  $111.99     0   \n",
       "4     Small Unit Simple Computer Desk Household Wood...   $21.37     1   \n",
       "...                                                 ...      ...   ...   \n",
       "1995  Modern TV Stand Entertainment Center with Two ...   $72.49     8   \n",
       "1996  Large Wardrobe Armoire Closet with 3 Doors, Fr...  $276.65     2   \n",
       "1997  Velvet Futon Sofa Bed, 73-inch Sleeper Couch w...  $196.44    10   \n",
       "1998  Furniture Acrylic Coffee Table Transparent Liv...  $228.18     0   \n",
       "1999  Bed Frane Bamboo and Metal Platform Bed Frame ...   $99.48     0   \n",
       "\n",
       "            tagText  \n",
       "0     Free shipping  \n",
       "1     Free shipping  \n",
       "2     Free shipping  \n",
       "3     Free shipping  \n",
       "4     Free shipping  \n",
       "...             ...  \n",
       "1995  Free shipping  \n",
       "1996  Free shipping  \n",
       "1997  Free shipping  \n",
       "1998  Free shipping  \n",
       "1999  Free shipping  \n",
       "\n",
       "[2000 rows x 4 columns]"
      ]
     },
     "execution_count": 7,
     "metadata": {},
     "output_type": "execute_result"
    }
   ],
   "source": [
    "df"
   ]
  },
  {
   "cell_type": "code",
   "execution_count": 8,
   "id": "d29c2e1d-c29a-4598-9ca6-4781ab4973a5",
   "metadata": {},
   "outputs": [
    {
     "data": {
      "text/plain": [
       "100"
      ]
     },
     "execution_count": 8,
     "metadata": {},
     "output_type": "execute_result"
    }
   ],
   "source": [
    "df['tagText'].nunique()"
   ]
  },
  {
   "cell_type": "code",
   "execution_count": 9,
   "id": "19f25541-69b8-4ccd-a32f-d93d30a05f30",
   "metadata": {},
   "outputs": [
    {
     "data": {
      "text/plain": [
       "tagText\n",
       "Free shipping           1880\n",
       "+Shipping: $5.09           9\n",
       "+Shipping: $239.64         2\n",
       "+Shipping: $97.54          2\n",
       "+Shipping: $64.56          2\n",
       "                        ... \n",
       "+Shipping: $88.26          1\n",
       "+Shipping: $170.31         1\n",
       "+Shipping: $1,097.18       1\n",
       "+Shipping: $106.13         1\n",
       "+Shipping: $171.49         1\n",
       "Name: count, Length: 100, dtype: int64"
      ]
     },
     "execution_count": 9,
     "metadata": {},
     "output_type": "execute_result"
    }
   ],
   "source": [
    "df['tagText'].value_counts()"
   ]
  },
  {
   "cell_type": "code",
   "execution_count": 10,
   "id": "4cb98320-a503-4ec9-81fa-a3a259656038",
   "metadata": {},
   "outputs": [
    {
     "name": "stdout",
     "output_type": "stream",
     "text": [
      "tagText\n",
      "Free shipping       1880\n",
      "others               111\n",
      "+Shipping: $5.09       9\n",
      "Name: count, dtype: int64\n"
     ]
    }
   ],
   "source": [
    "df['tagText'] = df['tagText'].apply(lambda x: x if x in ['Free shipping', '+Shipping: $5.09']\n",
    "                                    else 'others')\n",
    "\n",
    "print(df['tagText'].value_counts())"
   ]
  },
  {
   "cell_type": "code",
   "execution_count": 11,
   "id": "da1ec5e4-054b-47f5-b07c-f8f4fd67f4cf",
   "metadata": {},
   "outputs": [],
   "source": [
    "import seaborn as sns"
   ]
  },
  {
   "cell_type": "code",
   "execution_count": 12,
   "id": "082c18b2-c454-4cfe-a0ce-f66c21f089c8",
   "metadata": {},
   "outputs": [
    {
     "data": {
      "text/plain": [
       "<Axes: xlabel='tagText', ylabel='count'>"
      ]
     },
     "execution_count": 12,
     "metadata": {},
     "output_type": "execute_result"
    },
    {
     "data": {
      "image/png": "[encoded data removed]",
      "text/plain": [
       "<Figure size 640x480 with 1 Axes>"
      ]
     },
     "metadata": {},
     "output_type": "display_data"
    }
   ],
   "source": [
    "sns.countplot(x= 'tagText', data=df)"
   ]
  },
  {
   "cell_type": "code",
   "execution_count": 13,
   "id": "519325f1-52a9-4898-a7dc-0a107ab387ca",
   "metadata": {},
   "outputs": [
    {
     "name": "stderr",
     "output_type": "stream",
     "text": [
      "<>:1: SyntaxWarning: invalid escape sequence '\\$'\n",
      "<>:1: SyntaxWarning: invalid escape sequence '\\$'\n",
      "C:\\Users\\Asus\\AppData\\Local\\Temp\\ipykernel_6768\\2337335738.py:1: SyntaxWarning: invalid escape sequence '\\$'\n",
      "  df['price'] = df['price'].replace('[\\$,]', '', regex=True).astype(float)\n"
     ]
    }
   ],
   "source": [
    "df['price'] = df['price'].replace('[\\$,]', '', regex=True).astype(float)"
   ]
  },
  {
   "cell_type": "code",
   "execution_count": 14,
   "id": "ffcd493c-62c4-4807-8a0d-79ad6d285d34",
   "metadata": {},
   "outputs": [
    {
     "data": {
      "text/html": [
       "<div>\n",
       "<style scoped>\n",
       "    .dataframe tbody tr th:only-of-type {\n",
       "        vertical-align: middle;\n",
       "    }\n",
       "\n",
       "    .dataframe tbody tr th {\n",
       "        vertical-align: top;\n",
       "    }\n",
       "\n",
       "    .dataframe thead th {\n",
       "        text-align: right;\n",
       "    }\n",
       "</style>\n",
       "<table border=\"1\" class=\"dataframe\">\n",
       "  <thead>\n",
       "    <tr style=\"text-align: right;\">\n",
       "      <th></th>\n",
       "      <th>productTitle</th>\n",
       "      <th>price</th>\n",
       "      <th>sold</th>\n",
       "      <th>tagText</th>\n",
       "    </tr>\n",
       "  </thead>\n",
       "  <tbody>\n",
       "    <tr>\n",
       "      <th>0</th>\n",
       "      <td>Dresser For Bedroom With 9 Fabric Drawers Ward...</td>\n",
       "      <td>46.79</td>\n",
       "      <td>600</td>\n",
       "      <td>Free shipping</td>\n",
       "    </tr>\n",
       "    <tr>\n",
       "      <th>1</th>\n",
       "      <td>Outdoor Conversation Set 4 Pieces Patio Furnit...</td>\n",
       "      <td>169.72</td>\n",
       "      <td>0</td>\n",
       "      <td>Free shipping</td>\n",
       "    </tr>\n",
       "    <tr>\n",
       "      <th>2</th>\n",
       "      <td>Desser For Bedroom With 7 Fabric Drawers Organ...</td>\n",
       "      <td>39.46</td>\n",
       "      <td>7</td>\n",
       "      <td>Free shipping</td>\n",
       "    </tr>\n",
       "    <tr>\n",
       "      <th>3</th>\n",
       "      <td>Modern Accent Boucle Chair,Upholstered Tufted ...</td>\n",
       "      <td>111.99</td>\n",
       "      <td>0</td>\n",
       "      <td>Free shipping</td>\n",
       "    </tr>\n",
       "    <tr>\n",
       "      <th>4</th>\n",
       "      <td>Small Unit Simple Computer Desk Household Wood...</td>\n",
       "      <td>21.37</td>\n",
       "      <td>1</td>\n",
       "      <td>Free shipping</td>\n",
       "    </tr>\n",
       "  </tbody>\n",
       "</table>\n",
       "</div>"
      ],
      "text/plain": [
       "                                        productTitle   price  sold  \\\n",
       "0  Dresser For Bedroom With 9 Fabric Drawers Ward...   46.79   600   \n",
       "1  Outdoor Conversation Set 4 Pieces Patio Furnit...  169.72     0   \n",
       "2  Desser For Bedroom With 7 Fabric Drawers Organ...   39.46     7   \n",
       "3  Modern Accent Boucle Chair,Upholstered Tufted ...  111.99     0   \n",
       "4  Small Unit Simple Computer Desk Household Wood...   21.37     1   \n",
       "\n",
       "         tagText  \n",
       "0  Free shipping  \n",
       "1  Free shipping  \n",
       "2  Free shipping  \n",
       "3  Free shipping  \n",
       "4  Free shipping  "
      ]
     },
     "execution_count": 14,
     "metadata": {},
     "output_type": "execute_result"
    }
   ],
   "source": [
    "df.head()"
   ]
  },
  {
   "cell_type": "code",
   "execution_count": 15,
   "id": "3ddd7798-9492-4537-84ae-9b74bb786ab6",
   "metadata": {},
   "outputs": [
    {
     "data": {
      "text/plain": [
       "<Axes: xlabel='price', ylabel='Count'>"
      ]
     },
     "execution_count": 15,
     "metadata": {},
     "output_type": "execute_result"
    },
    {
     "data": {
      "image/png": "[encoded data removed]",
      "text/plain": [
       "<Figure size 640x480 with 1 Axes>"
      ]
     },
     "metadata": {},
     "output_type": "display_data"
    }
   ],
   "source": [
    "sns.histplot(df['price'])"
   ]
  },
  {
   "cell_type": "code",
   "execution_count": 16,
   "id": "72b2d8fb-31fa-48b7-b391-f6f10e48559a",
   "metadata": {},
   "outputs": [
    {
     "name": "stderr",
     "output_type": "stream",
     "text": [
      "C:\\Users\\Asus\\AppData\\Local\\Temp\\ipykernel_6768\\2507294489.py:1: UserWarning: \n",
      "\n",
      "`distplot` is a deprecated function and will be removed in seaborn v0.14.0.\n",
      "\n",
      "Please adapt your code to use either `displot` (a figure-level function with\n",
      "similar flexibility) or `histplot` (an axes-level function for histograms).\n",
      "\n",
      "For a guide to updating your code to use the new functions, please see\n",
      "https://gist.github.com/mwaskom/de44147ed2974457ad6372750bbe5751\n",
      "\n",
      "  sns.distplot(df['sold'])\n"
     ]
    },
    {
     "data": {
      "text/plain": [
       "<Axes: xlabel='sold', ylabel='Density'>"
      ]
     },
     "execution_count": 16,
     "metadata": {},
     "output_type": "execute_result"
    },
    {
     "data": {
      "image/png": "[encoded data removed]",
      "text/plain": [
       "<Figure size 640x480 with 1 Axes>"
      ]
     },
     "metadata": {},
     "output_type": "display_data"
    }
   ],
   "source": [
    "sns.distplot(df['sold'])"
   ]
  },
  {
   "cell_type": "code",
   "execution_count": 17,
   "id": "46e6d775-4665-4721-a572-edf04b9880f3",
   "metadata": {},
   "outputs": [
    {
     "data": {
      "text/plain": [
       "<Axes: xlabel='price', ylabel='sold'>"
      ]
     },
     "execution_count": 17,
     "metadata": {},
     "output_type": "execute_result"
    },
    {
     "data": {
      "image/png": "[encoded data removed]",
      "text/plain": [
       "<Figure size 640x480 with 1 Axes>"
      ]
     },
     "metadata": {},
     "output_type": "display_data"
    }
   ],
   "source": [
    "sns.scatterplot(x='price', y='sold', data=df)"
   ]
  },
  {
   "cell_type": "code",
   "execution_count": 18,
   "id": "80c4cebe-64c3-4708-993c-0990e764be70",
   "metadata": {},
   "outputs": [
    {
     "data": {
      "text/plain": [
       "<seaborn.axisgrid.PairGrid at 0x1b381fa3440>"
      ]
     },
     "execution_count": 18,
     "metadata": {},
     "output_type": "execute_result"
    },
    {
     "data": {
      "image/png": "[encoded data removed]",
      "text/plain": [
       "<Figure size 500x500 with 6 Axes>"
      ]
     },
     "metadata": {},
     "output_type": "display_data"
    }
   ],
   "source": [
    "filtered_df = df[df['tagText'] == 'Free shipping']\n",
    "\n",
    "\n",
    "sns.pairplot(filtered_df[['price', 'sold']])"
   ]
  },
  {
   "cell_type": "code",
   "execution_count": 19,
   "id": "47883eca-7e11-4a97-af43-98cbfeb4d0b9",
   "metadata": {},
   "outputs": [],
   "source": [
    "from sklearn.preprocessing import LabelEncoder\n",
    "le=LabelEncoder()"
   ]
  },
  {
   "cell_type": "code",
   "execution_count": 20,
   "id": "e67092fd-7817-4986-a154-3c95d86f1403",
   "metadata": {},
   "outputs": [],
   "source": [
    "df['tagText']=le.fit_transform(df['tagText'])"
   ]
  },
  {
   "cell_type": "code",
   "execution_count": 21,
   "id": "2102121d-c615-4958-9bcc-599e5c7b33eb",
   "metadata": {},
   "outputs": [
    {
     "data": {
      "text/html": [
       "<div>\n",
       "<style scoped>\n",
       "    .dataframe tbody tr th:only-of-type {\n",
       "        vertical-align: middle;\n",
       "    }\n",
       "\n",
       "    .dataframe tbody tr th {\n",
       "        vertical-align: top;\n",
       "    }\n",
       "\n",
       "    .dataframe thead th {\n",
       "        text-align: right;\n",
       "    }\n",
       "</style>\n",
       "<table border=\"1\" class=\"dataframe\">\n",
       "  <thead>\n",
       "    <tr style=\"text-align: right;\">\n",
       "      <th></th>\n",
       "      <th>productTitle</th>\n",
       "      <th>price</th>\n",
       "      <th>sold</th>\n",
       "      <th>tagText</th>\n",
       "    </tr>\n",
       "  </thead>\n",
       "  <tbody>\n",
       "    <tr>\n",
       "      <th>0</th>\n",
       "      <td>Dresser For Bedroom With 9 Fabric Drawers Ward...</td>\n",
       "      <td>46.79</td>\n",
       "      <td>600</td>\n",
       "      <td>1</td>\n",
       "    </tr>\n",
       "    <tr>\n",
       "      <th>1</th>\n",
       "      <td>Outdoor Conversation Set 4 Pieces Patio Furnit...</td>\n",
       "      <td>169.72</td>\n",
       "      <td>0</td>\n",
       "      <td>1</td>\n",
       "    </tr>\n",
       "    <tr>\n",
       "      <th>2</th>\n",
       "      <td>Desser For Bedroom With 7 Fabric Drawers Organ...</td>\n",
       "      <td>39.46</td>\n",
       "      <td>7</td>\n",
       "      <td>1</td>\n",
       "    </tr>\n",
       "    <tr>\n",
       "      <th>3</th>\n",
       "      <td>Modern Accent Boucle Chair,Upholstered Tufted ...</td>\n",
       "      <td>111.99</td>\n",
       "      <td>0</td>\n",
       "      <td>1</td>\n",
       "    </tr>\n",
       "    <tr>\n",
       "      <th>4</th>\n",
       "      <td>Small Unit Simple Computer Desk Household Wood...</td>\n",
       "      <td>21.37</td>\n",
       "      <td>1</td>\n",
       "      <td>1</td>\n",
       "    </tr>\n",
       "  </tbody>\n",
       "</table>\n",
       "</div>"
      ],
      "text/plain": [
       "                                        productTitle   price  sold  tagText\n",
       "0  Dresser For Bedroom With 9 Fabric Drawers Ward...   46.79   600        1\n",
       "1  Outdoor Conversation Set 4 Pieces Patio Furnit...  169.72     0        1\n",
       "2  Desser For Bedroom With 7 Fabric Drawers Organ...   39.46     7        1\n",
       "3  Modern Accent Boucle Chair,Upholstered Tufted ...  111.99     0        1\n",
       "4  Small Unit Simple Computer Desk Household Wood...   21.37     1        1"
      ]
     },
     "execution_count": 21,
     "metadata": {},
     "output_type": "execute_result"
    }
   ],
   "source": [
    "df.head()"
   ]
  },
  {
   "cell_type": "code",
   "execution_count": 22,
   "id": "c94aa478-f91b-4ae9-b18e-62027ec3a472",
   "metadata": {},
   "outputs": [
    {
     "data": {
      "text/plain": [
       "tagText\n",
       "1    1880\n",
       "2     111\n",
       "0       9\n",
       "Name: count, dtype: int64"
      ]
     },
     "execution_count": 22,
     "metadata": {},
     "output_type": "execute_result"
    }
   ],
   "source": [
    "df['tagText'].value_counts()"
   ]
  },
  {
   "cell_type": "code",
   "execution_count": null,
   "id": "51460b2b-1dee-4c4b-9ff5-8a2ef12e389f",
   "metadata": {},
   "outputs": [],
   "source": []
  }
 ],
 "metadata": {
  "kernelspec": {
   "display_name": "Python 3 (ipykernel)",
   "language": "python",
   "name": "python3"
  },
  "language_info": {
   "codemirror_mode": {
    "name": "ipython",
    "version": 3
   },
   "file_extension": ".py",
   "mimetype": "text/x-python",
   "name": "python",
   "nbconvert_exporter": "python",
   "pygments_lexer": "ipython3",
   "version": "3.12.4"
  }
 },
 "nbformat": 4,
 "nbformat_minor": 5
}
